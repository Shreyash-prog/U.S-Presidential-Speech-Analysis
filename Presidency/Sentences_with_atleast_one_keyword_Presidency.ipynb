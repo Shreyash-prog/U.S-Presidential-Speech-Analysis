{
  "nbformat": 4,
  "nbformat_minor": 0,
  "metadata": {
    "colab": {
      "provenance": [],
      "authorship_tag": "ABX9TyM7x7e6q1fhzLsocANysDKn",
      "include_colab_link": true
    },
    "kernelspec": {
      "name": "python3",
      "display_name": "Python 3"
    },
    "language_info": {
      "name": "python"
    }
  },
  "cells": [
    {
      "cell_type": "markdown",
      "metadata": {
        "id": "view-in-github",
        "colab_type": "text"
      },
      "source": [
        "<a href=\"https://colab.research.google.com/github/Shreyash-prog/U.S-Presidential-Speech-Analysis/blob/main/Presidency/Sentences_with_atleast_one_keyword_Presidency.ipynb\" target=\"_parent\"><img src=\"https://colab.research.google.com/assets/colab-badge.svg\" alt=\"Open In Colab\"/></a>"
      ]
    },
    {
      "cell_type": "code",
      "execution_count": null,
      "metadata": {
        "id": "NZ_TCMO2K8PB"
      },
      "outputs": [],
      "source": [
        "import pandas as pd\n",
        "import re\n",
        "from google.colab import drive\n",
        "from google.colab import files"
      ]
    },
    {
      "cell_type": "code",
      "source": [
        "# Mount Google Drive\n",
        "drive.mount('/content/drive')\n",
        "\n",
        "# Path to the Excel file in your Google Drive\n",
        "file_path = '/content/drive/My Drive/datasetspeech.xlsx'\n",
        "\n",
        "# Read Excel file into DataFrame\n",
        "df = pd.read_excel(file_path)\n",
        "\n",
        "def extract_sentences_with_word(input_string, target_word):\n",
        "    # Define the regex pattern to match sentences containing the target word\n",
        "    pattern = r'[^.!?]*\\b' + re.escape(target_word.lower()) + r'\\b[^.!?]*[.!?]'\n",
        "\n",
        "    # Find all matches of the pattern in the input string\n",
        "    matches = re.findall(pattern, input_string, re.IGNORECASE)\n",
        "\n",
        "    # Filter out sentences that contain only escape sequences\n",
        "    filtered_matches = [sentence.strip() for sentence in matches if re.search(r'\\w', sentence.strip())]\n",
        "\n",
        "    # Return the list of sentences containing the target word\n",
        "    return filtered_matches\n",
        "\n",
        "# Function to create DataFrames containing sentences with specific target words\n",
        "def create_word_table():\n",
        "    # List of target words to search for in the input string\n",
        "    target_word_list = ['bureaucrat', 'bureaucrats', 'bureaucracy', 'bureaucracies', 'washington', 'expert', 'experts', 'civil', 'servant', 'servants', 'law', 'laws']\n",
        "\n",
        "    # Initialize empty lists to store sentences and corresponding speech numbers\n",
        "    #bureaucrat_lst, bureaucracy_lst, washington_lst, expert_lst, civil_lst, servant_lst, law_lst, speech_b_num, speech_by_num, speech_w_num, speech_e_num, speech_c_num, speech_s_num, speech_l_num = [], [], [], [], [], [], [], [], [], [], [], [], [], []\n",
        "\n",
        "    keyword_sentence_lst = []\n",
        "    speech_number_lst = []\n",
        "\n",
        "    # Loop through each speech content in the DataFrame\n",
        "    for num in range(len(df['Speech Content'])):\n",
        "        # Get the speech content as an input string\n",
        "        input_str = df['Speech Content'][num]\n",
        "\n",
        "        # Check if the input string is a valid string\n",
        "        if type(input_str) == str:\n",
        "            # Loop through each target word in the target word list\n",
        "            for word in target_word_list:\n",
        "                # Check if the target word is in the input string\n",
        "                if word in input_str:\n",
        "                    # Extract sentences containing the target word\n",
        "                    sentences_with_word = extract_sentences_with_word(input_str, word)\n",
        "                    # Append the sentences to the corresponding list based on the target word\n",
        "                    for sentence in sentences_with_word:\n",
        "                        if sentence not in keyword_sentence_lst:\n",
        "                            keyword_sentence_lst.append(sentence)\n",
        "                            speech_number_lst.append(num+1)\n",
        "                else:\n",
        "                    pass\n",
        "        else:\n",
        "            pass\n",
        "\n",
        "\n",
        "    keyword_sentence_df = pd.DataFrame({'Speech Number': speech_number_lst, 'Sentences with Keywords': keyword_sentence_lst})\n",
        "\n",
        "    # Return the DataFrames for each target word\n",
        "    return keyword_sentence_df\n",
        "\n",
        "# Call the function to create the DataFrames\n",
        "keyword_sentence_df = create_word_table()\n",
        "\n",
        "## Uncomment the below code to download df into your drive\n",
        "# keyword_sentence_df.to_csv('final_keyword_table.csv', index=False)\n",
        "\n",
        "## Uncomment the below code to download df into your local storage\n",
        "# files.download('/content/drive/My Drive/final_keyword_table.csv')"
      ],
      "metadata": {
        "id": "0nUMCfQDLMCN"
      },
      "execution_count": null,
      "outputs": []
    }
  ]
}