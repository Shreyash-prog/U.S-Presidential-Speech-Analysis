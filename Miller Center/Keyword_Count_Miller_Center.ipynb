{
  "nbformat": 4,
  "nbformat_minor": 0,
  "metadata": {
    "colab": {
      "provenance": [],
      "authorship_tag": "ABX9TyOVeTwPlKXF1hzY23ZrlW1O",
      "include_colab_link": true
    },
    "kernelspec": {
      "name": "python3",
      "display_name": "Python 3"
    },
    "language_info": {
      "name": "python"
    }
  },
  "cells": [
    {
      "cell_type": "markdown",
      "metadata": {
        "id": "view-in-github",
        "colab_type": "text"
      },
      "source": [
        "<a href=\"https://colab.research.google.com/github/Shreyash-prog/U.S-Presidential-Speech-Analysis/blob/main/Miller%20Center/Keyword_Count_Miller_Center.ipynb\" target=\"_parent\"><img src=\"https://colab.research.google.com/assets/colab-badge.svg\" alt=\"Open In Colab\"/></a>"
      ]
    },
    {
      "cell_type": "code",
      "execution_count": null,
      "metadata": {
        "id": "yKnDNbWd8m7b"
      },
      "outputs": [],
      "source": [
        "import pandas as pd\n",
        "import re\n",
        "from collections import Counter\n",
        "from google.colab import drive\n",
        "from google.colab import files"
      ]
    },
    {
      "cell_type": "code",
      "source": [
        "# Mount Google Drive\n",
        "drive.mount('/content/drive')\n",
        "\n",
        "# Path to the Excel file in your Google Drive\n",
        "file_path = '/content/drive/My Drive/miller_center_df.xlsx'\n",
        "\n",
        "# Read Excel file into DataFrame\n",
        "df = pd.read_excel(file_path)\n",
        "\n",
        "def count_words_in_string(word_list, input_string):\n",
        "    # Create a regex pattern to match words\n",
        "    word_pattern = re.compile(r'\\b\\w+\\b')\n",
        "\n",
        "    # Find all words in the input string\n",
        "    words_in_string = word_pattern.findall(input_string.lower())\n",
        "\n",
        "    # Count occurrences of each word from word_list in the input string\n",
        "    word_counts = Counter(words_in_string)\n",
        "\n",
        "    # Initialize word_counts for each word in word_list\n",
        "    for word in word_list:\n",
        "        word_counts[word] = word_counts[word.lower()]\n",
        "\n",
        "    return word_counts\n",
        "\n",
        "\n",
        "def create_word_count_table():\n",
        "    target_word_list  = ['bureaucrat', 'bureaucrats', 'bureaucracy', 'bureaucracies','washington', 'expert', 'experts' ,'civil', 'servant', 'servants','law', 'laws']\n",
        "\n",
        "    bureaucrat_lst, bureaucracy_lst, washington_lst, expert_lst, civil_lst, servant_lst, law_lst, speech_num_lst = [],[],[],[],[],[],[],[]\n",
        "\n",
        "    for num in range(len(df['Speech Content'])):\n",
        "        bureaucrat_count, bureaucracy_count, expert_count, servant_count, law_count = 0, 0, 0, 0, 0\n",
        "\n",
        "        input_str = df['Speech Content'][num]\n",
        "\n",
        "        if type(input_str) == str:\n",
        "            speech_num_lst.append(num+1)\n",
        "            word_counts = count_words_in_string(target_word_list, input_str)\n",
        "\n",
        "            for word in target_word_list:\n",
        "                if word == 'bureaucrat' or word == 'bureaucrats':\n",
        "                    bureaucrat_count+=word_counts[word.lower()]\n",
        "                elif word == 'bureaucracy' or word == 'bureaucracies':\n",
        "                    bureaucracy_count+=word_counts[word.lower()]\n",
        "                elif word == 'washington':\n",
        "                    washington_lst.append(word_counts[word.lower()])\n",
        "                elif word == 'expert' or word == 'experts':\n",
        "                    expert_count+=word_counts[word.lower()]\n",
        "                elif word == 'civil':\n",
        "                    civil_lst.append(word_counts[word.lower()])\n",
        "                elif word == 'servant' or word == 'servants':\n",
        "                    servant_count+=word_counts[word.lower()]\n",
        "                elif word == 'law' or word == 'laws':\n",
        "                    law_count+=word_counts[word.lower()]\n",
        "                else:\n",
        "                    pass\n",
        "\n",
        "            bureaucrat_lst.append(bureaucrat_count)\n",
        "            bureaucracy_lst.append(bureaucracy_count)\n",
        "            expert_lst.append(expert_count)\n",
        "            servant_lst.append(servant_count)\n",
        "            law_lst.append(law_count)\n",
        "\n",
        "        else:\n",
        "            pass\n",
        "\n",
        "    keyword_count_df = pd.DataFrame(data = {'Speech Number': speech_num_lst, 'bureaucrat_count': bureaucrat_lst, 'bureaucracy_count': bureaucracy_lst, 'washington_count': washington_lst, 'expert_count': expert_lst, 'civil_count': civil_lst, 'servant_count': servant_lst, 'law_count': law_lst})\n",
        "\n",
        "    return keyword_count_df"
      ],
      "metadata": {
        "colab": {
          "base_uri": "https://localhost:8080/"
        },
        "id": "4exu8j7K884e",
        "outputId": "1c18e0f5-bb3a-47c6-a218-982eb48133ac"
      },
      "execution_count": null,
      "outputs": [
        {
          "output_type": "stream",
          "name": "stdout",
          "text": [
            "Drive already mounted at /content/drive; to attempt to forcibly remount, call drive.mount(\"/content/drive\", force_remount=True).\n"
          ]
        }
      ]
    },
    {
      "cell_type": "code",
      "source": [
        "keyword_count_df = create_word_count_table()\n",
        "\n",
        "## Uncomment the below code to download df into your drive\n",
        "keyword_count_df.to_csv('keyword_count_table.csv', index=False)\n",
        "\n",
        "## Uncomment the below code to download df into your local storage\n",
        "#files.download('/content/drive/My Drive/keyword_count_table.csv')"
      ],
      "metadata": {
        "id": "T6NNu3hu9GoB"
      },
      "execution_count": null,
      "outputs": []
    },
    {
      "cell_type": "markdown",
      "source": [],
      "metadata": {
        "id": "qJdPoJbtmfBP"
      }
    },
    {
      "cell_type": "code",
      "source": [],
      "metadata": {
        "id": "rBYjHw7ImlvP"
      },
      "execution_count": null,
      "outputs": []
    }
  ]
}