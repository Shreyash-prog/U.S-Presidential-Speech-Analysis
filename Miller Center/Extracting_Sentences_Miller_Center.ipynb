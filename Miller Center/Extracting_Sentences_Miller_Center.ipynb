{
  "nbformat": 4,
  "nbformat_minor": 0,
  "metadata": {
    "colab": {
      "provenance": [],
      "gpuType": "T4",
      "authorship_tag": "ABX9TyMqsAwzIQUjeYzhLxGnw+eC",
      "include_colab_link": true
    },
    "kernelspec": {
      "name": "python3",
      "display_name": "Python 3"
    },
    "language_info": {
      "name": "python"
    },
    "accelerator": "GPU"
  },
  "cells": [
    {
      "cell_type": "markdown",
      "metadata": {
        "id": "view-in-github",
        "colab_type": "text"
      },
      "source": [
        "<a href=\"https://colab.research.google.com/github/Shreyash-prog/U.S-Presidential-Speech-Analysis/blob/main/Miller%20Center/Extracting_Sentences_Miller_Center.ipynb\" target=\"_parent\"><img src=\"https://colab.research.google.com/assets/colab-badge.svg\" alt=\"Open In Colab\"/></a>"
      ]
    },
    {
      "cell_type": "code",
      "execution_count": null,
      "metadata": {
        "id": "iD55uL4NomjA"
      },
      "outputs": [],
      "source": [
        "import pandas as pd\n",
        "import re\n",
        "from google.colab import drive\n",
        "from google.colab import files"
      ]
    },
    {
      "cell_type": "code",
      "source": [
        "# Mount Google Drive\n",
        "drive.mount('/content/drive')\n",
        "\n",
        "# Path to the Excel file in your Google Drive\n",
        "file_path = '/content/drive/My Drive/miller_center_df.xlsx'\n",
        "\n",
        "# Read Excel file into DataFrame\n",
        "df = pd.read_excel(file_path)\n",
        "\n",
        "# Function to extract sentences containing a target word from an input string\n",
        "def extract_sentences_with_word(input_string, target_word):\n",
        "    # Define the regex pattern to match sentences containing the target word\n",
        "    pattern = r'[^.!?]*\\b' + re.escape(target_word.lower()) + r'\\b[^.!?]*[.!?]'\n",
        "\n",
        "    # Find all matches of the pattern in the input string\n",
        "    matches = re.findall(pattern, input_string, re.IGNORECASE)\n",
        "\n",
        "    # Filter out sentences that contain only escape sequences\n",
        "    filtered_matches = [sentence.strip() for sentence in matches if re.search(r'\\w', sentence.strip())]\n",
        "\n",
        "    # Return the list of sentences containing the target word\n",
        "    return filtered_matches\n",
        "\n",
        "# Function to create DataFrames containing sentences with specific target words\n",
        "def create_word_table():\n",
        "    # List of target words to search for in the input string\n",
        "    target_word_list = ['bureaucrat', 'bureaucrats', 'bureaucracy', 'bureaucracies', 'washington', 'expert', 'experts', 'civil', 'servant', 'servants', 'law', 'laws']\n",
        "\n",
        "    # Initialize empty lists to store sentences and corresponding speech numbers\n",
        "    bureaucrat_lst, bureaucracy_lst, washington_lst, expert_lst, civil_lst, servant_lst, law_lst, speech_b_num, speech_by_num, speech_w_num, speech_e_num, speech_c_num, speech_s_num, speech_l_num = [], [], [], [], [], [], [], [], [], [], [], [], [], []\n",
        "\n",
        "    # Loop through each speech content in the DataFrame\n",
        "    for num in range(len(df['Speech Content'])):\n",
        "        # Get the speech content as an input string\n",
        "        input_str = df['Speech Content'][num]\n",
        "\n",
        "        # Check if the input string is a valid string\n",
        "        if type(input_str) == str:\n",
        "            # Loop through each target word in the target word list\n",
        "            for word in target_word_list:\n",
        "                # Check if the target word is in the input string\n",
        "                if word in input_str:\n",
        "                    # Extract sentences containing the target word\n",
        "                    sentences_with_word = extract_sentences_with_word(input_str, word)\n",
        "                    # Append the sentences to the corresponding list based on the target word\n",
        "                    if word == 'bureaucrat' or word == 'bureaucrats':\n",
        "                        bureaucrat_lst += sentences_with_word\n",
        "                        speech_b_num += [(num+1)] * len(sentences_with_word)\n",
        "                    elif word == 'bureaucracy' or word == 'bureaucracies':\n",
        "                        bureaucracy_lst += sentences_with_word\n",
        "                        speech_by_num += [(num+1)] * len(sentences_with_word)\n",
        "                    elif word == 'washington':\n",
        "                        washington_lst += sentences_with_word\n",
        "                        speech_w_num += [(num+1)] * len(sentences_with_word)\n",
        "                    elif word == 'expert' or word == 'experts':\n",
        "                        expert_lst += sentences_with_word\n",
        "                        speech_e_num += [(num+1)] * len(sentences_with_word)\n",
        "                    elif word == 'civil':\n",
        "                        civil_lst += sentences_with_word\n",
        "                        speech_c_num += [(num+1)] * len(sentences_with_word)\n",
        "                    elif word == 'servant' or word == 'servants':\n",
        "                        servant_lst += sentences_with_word\n",
        "                        speech_s_num += [(num+1)] * len(sentences_with_word)\n",
        "                    elif word == 'law' or word == 'laws':\n",
        "                        law_lst += sentences_with_word\n",
        "                        speech_l_num += [(num+1)] * len(sentences_with_word)\n",
        "                    else:\n",
        "                        pass\n",
        "                else:\n",
        "                    pass\n",
        "        else:\n",
        "            pass\n",
        "\n",
        "    # Create DataFrames for each target word with corresponding speech numbers and sentences\n",
        "    df_bureaucrat = pd.DataFrame({'Speech Number': speech_b_num, 'Sentences with Bureaucrat': bureaucrat_lst})\n",
        "    df_bureaucracy = pd.DataFrame({'Speech Number': speech_by_num, 'Sentences with Bureaucracy': bureaucracy_lst})\n",
        "    df_washington = pd.DataFrame({'Speech Number': speech_w_num, 'Sentences with Washington': washington_lst})\n",
        "    df_expert = pd.DataFrame({'Speech Number': speech_e_num, 'Sentences with Expert': expert_lst})\n",
        "    df_civil = pd.DataFrame({'Speech Number': speech_c_num, 'Sentences with Civil': civil_lst})\n",
        "    df_servant = pd.DataFrame({'Speech Number': speech_s_num, 'Sentences with Servant': servant_lst})\n",
        "    df_law = pd.DataFrame({'Speech Number': speech_l_num, 'Sentences with Law': law_lst})\n",
        "\n",
        "    # Return the DataFrames for each target word\n",
        "    return df_bureaucrat, df_bureaucracy, df_washington, df_expert, df_civil, df_servant, df_law\n",
        "\n",
        "# Call the function to create the DataFrames\n",
        "df_bureaucrat, df_bureaucracy, df_washington, df_expert, df_civil, df_servant, df_law = create_word_table()\n",
        "\n",
        "## Uncomment the below code to download df into your drive\n",
        "# df_bureaucrat.to_csv('bureaucrat_table.csv', index=False)\n",
        "# df_bureaucracy.to_csv('bureaucracy_table.csv', index=False)\n",
        "# df_washington.to_csv('washington_table.csv', index=False)\n",
        "# df_expert.to_csv('expert_table.csv', index=False)\n",
        "# df_civil.to_csv('civil_table.csv', index=False)\n",
        "# df_servant.to_csv('servant_table.csv', index=False)\n",
        "# df_law.to_csv('law_table.csv', index=False)\n",
        "\n",
        "## Uncomment the below code to download df into your local storage\n",
        "# files.download('/content/drive/My Drive/bureaucrat_table.csv')\n",
        "# files.download('/content/drive/My Drive/bureaucracy_table.csv')\n",
        "# files.download('/content/drive/My Drive/washington_table.csv')\n",
        "# files.download('/content/drive/My Drive/expert_table.csv')\n",
        "# files.download('/content/drive/My Drive/civil_table.csv')\n",
        "# files.download('/content/drive/My Drive/servant_table.csv')\n",
        "# files.download('/content/drive/My Drive/law_table.csv')"
      ],
      "metadata": {
        "colab": {
          "base_uri": "https://localhost:8080/"
        },
        "id": "Yw723LOSpN4_",
        "outputId": "f097cee4-80e1-4ff5-f152-71dbd6207cd2"
      },
      "execution_count": null,
      "outputs": [
        {
          "output_type": "stream",
          "name": "stdout",
          "text": [
            "Drive already mounted at /content/drive; to attempt to forcibly remount, call drive.mount(\"/content/drive\", force_remount=True).\n"
          ]
        }
      ]
    },
    {
      "cell_type": "code",
      "source": [],
      "metadata": {
        "id": "B85xqiAT5p2P"
      },
      "execution_count": null,
      "outputs": []
    }
  ]
}